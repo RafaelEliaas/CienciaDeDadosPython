{
 "cells": [
  {
   "cell_type": "code",
   "execution_count": 34,
   "metadata": {},
   "outputs": [],
   "source": [
    "import numpy as np\n",
    "import pandas as pd"
   ]
  },
  {
   "cell_type": "markdown",
   "metadata": {},
   "source": [
    "## Operações com Dataframe"
   ]
  },
  {
   "cell_type": "markdown",
   "metadata": {},
   "source": [
    "Criando 2 DataFrames (3x5)"
   ]
  },
  {
   "cell_type": "code",
   "execution_count": 35,
   "metadata": {},
   "outputs": [
    {
     "data": {
      "text/plain": [
       "array([[0, 5, 8, 4, 1],\n",
       "       [5, 8, 2, 3, 1],\n",
       "       [1, 6, 6, 0, 2]])"
      ]
     },
     "execution_count": 35,
     "metadata": {},
     "output_type": "execute_result"
    }
   ],
   "source": [
    "np.random.randint(10, size=(3,5))"
   ]
  },
  {
   "cell_type": "code",
   "execution_count": 36,
   "metadata": {},
   "outputs": [
    {
     "data": {
      "text/html": [
       "<div>\n",
       "<style scoped>\n",
       "    .dataframe tbody tr th:only-of-type {\n",
       "        vertical-align: middle;\n",
       "    }\n",
       "\n",
       "    .dataframe tbody tr th {\n",
       "        vertical-align: top;\n",
       "    }\n",
       "\n",
       "    .dataframe thead th {\n",
       "        text-align: right;\n",
       "    }\n",
       "</style>\n",
       "<table border=\"1\" class=\"dataframe\">\n",
       "  <thead>\n",
       "    <tr style=\"text-align: right;\">\n",
       "      <th></th>\n",
       "      <th>A</th>\n",
       "      <th>B</th>\n",
       "      <th>C</th>\n",
       "      <th>D</th>\n",
       "      <th>E</th>\n",
       "    </tr>\n",
       "  </thead>\n",
       "  <tbody>\n",
       "    <tr>\n",
       "      <th>0</th>\n",
       "      <td>3</td>\n",
       "      <td>0</td>\n",
       "      <td>3</td>\n",
       "      <td>0</td>\n",
       "      <td>4</td>\n",
       "    </tr>\n",
       "    <tr>\n",
       "      <th>1</th>\n",
       "      <td>2</td>\n",
       "      <td>4</td>\n",
       "      <td>1</td>\n",
       "      <td>0</td>\n",
       "      <td>7</td>\n",
       "    </tr>\n",
       "    <tr>\n",
       "      <th>2</th>\n",
       "      <td>6</td>\n",
       "      <td>1</td>\n",
       "      <td>5</td>\n",
       "      <td>2</td>\n",
       "      <td>0</td>\n",
       "    </tr>\n",
       "  </tbody>\n",
       "</table>\n",
       "</div>"
      ],
      "text/plain": [
       "   A  B  C  D  E\n",
       "0  3  0  3  0  4\n",
       "1  2  4  1  0  7\n",
       "2  6  1  5  2  0"
      ]
     },
     "execution_count": 36,
     "metadata": {},
     "output_type": "execute_result"
    }
   ],
   "source": [
    "df1 = pd.DataFrame(np.random.randint(10, size=(3,5)), columns = ['A','B','C','D','E'])\n",
    "df1"
   ]
  },
  {
   "cell_type": "code",
   "execution_count": 37,
   "metadata": {},
   "outputs": [
    {
     "data": {
      "text/html": [
       "<div>\n",
       "<style scoped>\n",
       "    .dataframe tbody tr th:only-of-type {\n",
       "        vertical-align: middle;\n",
       "    }\n",
       "\n",
       "    .dataframe tbody tr th {\n",
       "        vertical-align: top;\n",
       "    }\n",
       "\n",
       "    .dataframe thead th {\n",
       "        text-align: right;\n",
       "    }\n",
       "</style>\n",
       "<table border=\"1\" class=\"dataframe\">\n",
       "  <thead>\n",
       "    <tr style=\"text-align: right;\">\n",
       "      <th></th>\n",
       "      <th>A</th>\n",
       "      <th>B</th>\n",
       "      <th>C</th>\n",
       "      <th>D</th>\n",
       "      <th>E</th>\n",
       "    </tr>\n",
       "  </thead>\n",
       "  <tbody>\n",
       "    <tr>\n",
       "      <th>0</th>\n",
       "      <td>4</td>\n",
       "      <td>6</td>\n",
       "      <td>5</td>\n",
       "      <td>1</td>\n",
       "      <td>4</td>\n",
       "    </tr>\n",
       "    <tr>\n",
       "      <th>1</th>\n",
       "      <td>4</td>\n",
       "      <td>1</td>\n",
       "      <td>9</td>\n",
       "      <td>1</td>\n",
       "      <td>5</td>\n",
       "    </tr>\n",
       "    <tr>\n",
       "      <th>2</th>\n",
       "      <td>4</td>\n",
       "      <td>7</td>\n",
       "      <td>1</td>\n",
       "      <td>5</td>\n",
       "      <td>3</td>\n",
       "    </tr>\n",
       "  </tbody>\n",
       "</table>\n",
       "</div>"
      ],
      "text/plain": [
       "   A  B  C  D  E\n",
       "0  4  6  5  1  4\n",
       "1  4  1  9  1  5\n",
       "2  4  7  1  5  3"
      ]
     },
     "execution_count": 37,
     "metadata": {},
     "output_type": "execute_result"
    }
   ],
   "source": [
    "df2 = pd.DataFrame(np.random.randint(10, size=(3,5)), columns = ['A','B','C','D','E'])\n",
    "df2"
   ]
  },
  {
   "cell_type": "markdown",
   "metadata": {},
   "source": [
    "Somando 2 DataFrames(3x5)"
   ]
  },
  {
   "cell_type": "code",
   "execution_count": 38,
   "metadata": {},
   "outputs": [
    {
     "data": {
      "text/html": [
       "<div>\n",
       "<style scoped>\n",
       "    .dataframe tbody tr th:only-of-type {\n",
       "        vertical-align: middle;\n",
       "    }\n",
       "\n",
       "    .dataframe tbody tr th {\n",
       "        vertical-align: top;\n",
       "    }\n",
       "\n",
       "    .dataframe thead th {\n",
       "        text-align: right;\n",
       "    }\n",
       "</style>\n",
       "<table border=\"1\" class=\"dataframe\">\n",
       "  <thead>\n",
       "    <tr style=\"text-align: right;\">\n",
       "      <th></th>\n",
       "      <th>A</th>\n",
       "      <th>B</th>\n",
       "      <th>C</th>\n",
       "      <th>D</th>\n",
       "      <th>E</th>\n",
       "    </tr>\n",
       "  </thead>\n",
       "  <tbody>\n",
       "    <tr>\n",
       "      <th>0</th>\n",
       "      <td>7</td>\n",
       "      <td>6</td>\n",
       "      <td>8</td>\n",
       "      <td>1</td>\n",
       "      <td>8</td>\n",
       "    </tr>\n",
       "    <tr>\n",
       "      <th>1</th>\n",
       "      <td>6</td>\n",
       "      <td>5</td>\n",
       "      <td>10</td>\n",
       "      <td>1</td>\n",
       "      <td>12</td>\n",
       "    </tr>\n",
       "    <tr>\n",
       "      <th>2</th>\n",
       "      <td>10</td>\n",
       "      <td>8</td>\n",
       "      <td>6</td>\n",
       "      <td>7</td>\n",
       "      <td>3</td>\n",
       "    </tr>\n",
       "  </tbody>\n",
       "</table>\n",
       "</div>"
      ],
      "text/plain": [
       "    A  B   C  D   E\n",
       "0   7  6   8  1   8\n",
       "1   6  5  10  1  12\n",
       "2  10  8   6  7   3"
      ]
     },
     "execution_count": 38,
     "metadata": {},
     "output_type": "execute_result"
    }
   ],
   "source": [
    "df1 + df2"
   ]
  },
  {
   "cell_type": "markdown",
   "metadata": {},
   "source": [
    "Criando 1 DataFrame (1x5)"
   ]
  },
  {
   "cell_type": "code",
   "execution_count": 39,
   "metadata": {},
   "outputs": [
    {
     "data": {
      "text/html": [
       "<div>\n",
       "<style scoped>\n",
       "    .dataframe tbody tr th:only-of-type {\n",
       "        vertical-align: middle;\n",
       "    }\n",
       "\n",
       "    .dataframe tbody tr th {\n",
       "        vertical-align: top;\n",
       "    }\n",
       "\n",
       "    .dataframe thead th {\n",
       "        text-align: right;\n",
       "    }\n",
       "</style>\n",
       "<table border=\"1\" class=\"dataframe\">\n",
       "  <thead>\n",
       "    <tr style=\"text-align: right;\">\n",
       "      <th></th>\n",
       "      <th>A</th>\n",
       "      <th>B</th>\n",
       "      <th>C</th>\n",
       "      <th>D</th>\n",
       "      <th>E</th>\n",
       "    </tr>\n",
       "  </thead>\n",
       "  <tbody>\n",
       "    <tr>\n",
       "      <th>0</th>\n",
       "      <td>4</td>\n",
       "      <td>1</td>\n",
       "      <td>4</td>\n",
       "      <td>0</td>\n",
       "      <td>8</td>\n",
       "    </tr>\n",
       "  </tbody>\n",
       "</table>\n",
       "</div>"
      ],
      "text/plain": [
       "   A  B  C  D  E\n",
       "0  4  1  4  0  8"
      ]
     },
     "execution_count": 39,
     "metadata": {},
     "output_type": "execute_result"
    }
   ],
   "source": [
    "df3 = pd.DataFrame(np.random.randint(10, size=(1,5)), columns = ['A','B','C','D','E'])\n",
    "df3"
   ]
  },
  {
   "cell_type": "markdown",
   "metadata": {},
   "source": [
    "Somando 2 DataFrames (3 x 5 e 1 x 5)"
   ]
  },
  {
   "cell_type": "code",
   "execution_count": 40,
   "metadata": {},
   "outputs": [
    {
     "data": {
      "text/html": [
       "<div>\n",
       "<style scoped>\n",
       "    .dataframe tbody tr th:only-of-type {\n",
       "        vertical-align: middle;\n",
       "    }\n",
       "\n",
       "    .dataframe tbody tr th {\n",
       "        vertical-align: top;\n",
       "    }\n",
       "\n",
       "    .dataframe thead th {\n",
       "        text-align: right;\n",
       "    }\n",
       "</style>\n",
       "<table border=\"1\" class=\"dataframe\">\n",
       "  <thead>\n",
       "    <tr style=\"text-align: right;\">\n",
       "      <th></th>\n",
       "      <th>A</th>\n",
       "      <th>B</th>\n",
       "      <th>C</th>\n",
       "      <th>D</th>\n",
       "      <th>E</th>\n",
       "    </tr>\n",
       "  </thead>\n",
       "  <tbody>\n",
       "    <tr>\n",
       "      <th>0</th>\n",
       "      <td>7.0</td>\n",
       "      <td>1.0</td>\n",
       "      <td>7.0</td>\n",
       "      <td>0.0</td>\n",
       "      <td>12.0</td>\n",
       "    </tr>\n",
       "    <tr>\n",
       "      <th>1</th>\n",
       "      <td>NaN</td>\n",
       "      <td>NaN</td>\n",
       "      <td>NaN</td>\n",
       "      <td>NaN</td>\n",
       "      <td>NaN</td>\n",
       "    </tr>\n",
       "    <tr>\n",
       "      <th>2</th>\n",
       "      <td>NaN</td>\n",
       "      <td>NaN</td>\n",
       "      <td>NaN</td>\n",
       "      <td>NaN</td>\n",
       "      <td>NaN</td>\n",
       "    </tr>\n",
       "  </tbody>\n",
       "</table>\n",
       "</div>"
      ],
      "text/plain": [
       "     A    B    C    D     E\n",
       "0  7.0  1.0  7.0  0.0  12.0\n",
       "1  NaN  NaN  NaN  NaN   NaN\n",
       "2  NaN  NaN  NaN  NaN   NaN"
      ]
     },
     "execution_count": 40,
     "metadata": {},
     "output_type": "execute_result"
    }
   ],
   "source": [
    "df1 + df3"
   ]
  },
  {
   "cell_type": "markdown",
   "metadata": {},
   "source": [
    "Zerando uma linha"
   ]
  },
  {
   "cell_type": "code",
   "execution_count": 41,
   "metadata": {},
   "outputs": [
    {
     "data": {
      "text/html": [
       "<div>\n",
       "<style scoped>\n",
       "    .dataframe tbody tr th:only-of-type {\n",
       "        vertical-align: middle;\n",
       "    }\n",
       "\n",
       "    .dataframe tbody tr th {\n",
       "        vertical-align: top;\n",
       "    }\n",
       "\n",
       "    .dataframe thead th {\n",
       "        text-align: right;\n",
       "    }\n",
       "</style>\n",
       "<table border=\"1\" class=\"dataframe\">\n",
       "  <thead>\n",
       "    <tr style=\"text-align: right;\">\n",
       "      <th></th>\n",
       "      <th>A</th>\n",
       "      <th>B</th>\n",
       "      <th>C</th>\n",
       "      <th>D</th>\n",
       "      <th>E</th>\n",
       "    </tr>\n",
       "  </thead>\n",
       "  <tbody>\n",
       "    <tr>\n",
       "      <th>0</th>\n",
       "      <td>3</td>\n",
       "      <td>0</td>\n",
       "      <td>3</td>\n",
       "      <td>0</td>\n",
       "      <td>4</td>\n",
       "    </tr>\n",
       "    <tr>\n",
       "      <th>1</th>\n",
       "      <td>2</td>\n",
       "      <td>4</td>\n",
       "      <td>1</td>\n",
       "      <td>0</td>\n",
       "      <td>7</td>\n",
       "    </tr>\n",
       "    <tr>\n",
       "      <th>2</th>\n",
       "      <td>6</td>\n",
       "      <td>1</td>\n",
       "      <td>5</td>\n",
       "      <td>2</td>\n",
       "      <td>0</td>\n",
       "    </tr>\n",
       "  </tbody>\n",
       "</table>\n",
       "</div>"
      ],
      "text/plain": [
       "   A  B  C  D  E\n",
       "0  3  0  3  0  4\n",
       "1  2  4  1  0  7\n",
       "2  6  1  5  2  0"
      ]
     },
     "execution_count": 41,
     "metadata": {},
     "output_type": "execute_result"
    }
   ],
   "source": [
    "df1"
   ]
  },
  {
   "cell_type": "code",
   "execution_count": 42,
   "metadata": {},
   "outputs": [
    {
     "data": {
      "text/plain": [
       "A    3\n",
       "B    0\n",
       "C    3\n",
       "D    0\n",
       "E    4\n",
       "Name: 0, dtype: int32"
      ]
     },
     "execution_count": 42,
     "metadata": {},
     "output_type": "execute_result"
    }
   ],
   "source": [
    "df1.iloc[0]"
   ]
  },
  {
   "cell_type": "code",
   "execution_count": 43,
   "metadata": {},
   "outputs": [
    {
     "data": {
      "text/html": [
       "<div>\n",
       "<style scoped>\n",
       "    .dataframe tbody tr th:only-of-type {\n",
       "        vertical-align: middle;\n",
       "    }\n",
       "\n",
       "    .dataframe tbody tr th {\n",
       "        vertical-align: top;\n",
       "    }\n",
       "\n",
       "    .dataframe thead th {\n",
       "        text-align: right;\n",
       "    }\n",
       "</style>\n",
       "<table border=\"1\" class=\"dataframe\">\n",
       "  <thead>\n",
       "    <tr style=\"text-align: right;\">\n",
       "      <th></th>\n",
       "      <th>A</th>\n",
       "      <th>B</th>\n",
       "      <th>C</th>\n",
       "      <th>D</th>\n",
       "      <th>E</th>\n",
       "    </tr>\n",
       "  </thead>\n",
       "  <tbody>\n",
       "    <tr>\n",
       "      <th>0</th>\n",
       "      <td>0</td>\n",
       "      <td>0</td>\n",
       "      <td>0</td>\n",
       "      <td>0</td>\n",
       "      <td>0</td>\n",
       "    </tr>\n",
       "    <tr>\n",
       "      <th>1</th>\n",
       "      <td>-1</td>\n",
       "      <td>4</td>\n",
       "      <td>-2</td>\n",
       "      <td>0</td>\n",
       "      <td>3</td>\n",
       "    </tr>\n",
       "    <tr>\n",
       "      <th>2</th>\n",
       "      <td>3</td>\n",
       "      <td>1</td>\n",
       "      <td>2</td>\n",
       "      <td>2</td>\n",
       "      <td>-4</td>\n",
       "    </tr>\n",
       "  </tbody>\n",
       "</table>\n",
       "</div>"
      ],
      "text/plain": [
       "   A  B  C  D  E\n",
       "0  0  0  0  0  0\n",
       "1 -1  4 -2  0  3\n",
       "2  3  1  2  2 -4"
      ]
     },
     "execution_count": 43,
     "metadata": {},
     "output_type": "execute_result"
    }
   ],
   "source": [
    "df1 - df1.iloc[0]"
   ]
  },
  {
   "cell_type": "markdown",
   "metadata": {},
   "source": [
    "Operação com escalar"
   ]
  },
  {
   "cell_type": "code",
   "execution_count": 44,
   "metadata": {},
   "outputs": [
    {
     "data": {
      "text/html": [
       "<div>\n",
       "<style scoped>\n",
       "    .dataframe tbody tr th:only-of-type {\n",
       "        vertical-align: middle;\n",
       "    }\n",
       "\n",
       "    .dataframe tbody tr th {\n",
       "        vertical-align: top;\n",
       "    }\n",
       "\n",
       "    .dataframe thead th {\n",
       "        text-align: right;\n",
       "    }\n",
       "</style>\n",
       "<table border=\"1\" class=\"dataframe\">\n",
       "  <thead>\n",
       "    <tr style=\"text-align: right;\">\n",
       "      <th></th>\n",
       "      <th>A</th>\n",
       "      <th>B</th>\n",
       "      <th>C</th>\n",
       "      <th>D</th>\n",
       "      <th>E</th>\n",
       "    </tr>\n",
       "  </thead>\n",
       "  <tbody>\n",
       "    <tr>\n",
       "      <th>0</th>\n",
       "      <td>3</td>\n",
       "      <td>0</td>\n",
       "      <td>3</td>\n",
       "      <td>0</td>\n",
       "      <td>4</td>\n",
       "    </tr>\n",
       "    <tr>\n",
       "      <th>1</th>\n",
       "      <td>2</td>\n",
       "      <td>4</td>\n",
       "      <td>1</td>\n",
       "      <td>0</td>\n",
       "      <td>7</td>\n",
       "    </tr>\n",
       "    <tr>\n",
       "      <th>2</th>\n",
       "      <td>6</td>\n",
       "      <td>1</td>\n",
       "      <td>5</td>\n",
       "      <td>2</td>\n",
       "      <td>0</td>\n",
       "    </tr>\n",
       "  </tbody>\n",
       "</table>\n",
       "</div>"
      ],
      "text/plain": [
       "   A  B  C  D  E\n",
       "0  3  0  3  0  4\n",
       "1  2  4  1  0  7\n",
       "2  6  1  5  2  0"
      ]
     },
     "execution_count": 44,
     "metadata": {},
     "output_type": "execute_result"
    }
   ],
   "source": [
    "df1"
   ]
  },
  {
   "cell_type": "code",
   "execution_count": 45,
   "metadata": {},
   "outputs": [
    {
     "data": {
      "text/html": [
       "<div>\n",
       "<style scoped>\n",
       "    .dataframe tbody tr th:only-of-type {\n",
       "        vertical-align: middle;\n",
       "    }\n",
       "\n",
       "    .dataframe tbody tr th {\n",
       "        vertical-align: top;\n",
       "    }\n",
       "\n",
       "    .dataframe thead th {\n",
       "        text-align: right;\n",
       "    }\n",
       "</style>\n",
       "<table border=\"1\" class=\"dataframe\">\n",
       "  <thead>\n",
       "    <tr style=\"text-align: right;\">\n",
       "      <th></th>\n",
       "      <th>A</th>\n",
       "      <th>B</th>\n",
       "      <th>C</th>\n",
       "      <th>D</th>\n",
       "      <th>E</th>\n",
       "    </tr>\n",
       "  </thead>\n",
       "  <tbody>\n",
       "    <tr>\n",
       "      <th>0</th>\n",
       "      <td>300</td>\n",
       "      <td>0</td>\n",
       "      <td>300</td>\n",
       "      <td>0</td>\n",
       "      <td>400</td>\n",
       "    </tr>\n",
       "    <tr>\n",
       "      <th>1</th>\n",
       "      <td>200</td>\n",
       "      <td>400</td>\n",
       "      <td>100</td>\n",
       "      <td>0</td>\n",
       "      <td>700</td>\n",
       "    </tr>\n",
       "    <tr>\n",
       "      <th>2</th>\n",
       "      <td>600</td>\n",
       "      <td>100</td>\n",
       "      <td>500</td>\n",
       "      <td>200</td>\n",
       "      <td>0</td>\n",
       "    </tr>\n",
       "  </tbody>\n",
       "</table>\n",
       "</div>"
      ],
      "text/plain": [
       "     A    B    C    D    E\n",
       "0  300    0  300    0  400\n",
       "1  200  400  100    0  700\n",
       "2  600  100  500  200    0"
      ]
     },
     "execution_count": 45,
     "metadata": {},
     "output_type": "execute_result"
    }
   ],
   "source": [
    "df1 * 100"
   ]
  },
  {
   "cell_type": "code",
   "execution_count": 46,
   "metadata": {},
   "outputs": [
    {
     "data": {
      "text/html": [
       "<div>\n",
       "<style scoped>\n",
       "    .dataframe tbody tr th:only-of-type {\n",
       "        vertical-align: middle;\n",
       "    }\n",
       "\n",
       "    .dataframe tbody tr th {\n",
       "        vertical-align: top;\n",
       "    }\n",
       "\n",
       "    .dataframe thead th {\n",
       "        text-align: right;\n",
       "    }\n",
       "</style>\n",
       "<table border=\"1\" class=\"dataframe\">\n",
       "  <thead>\n",
       "    <tr style=\"text-align: right;\">\n",
       "      <th></th>\n",
       "      <th>A</th>\n",
       "      <th>B</th>\n",
       "      <th>C</th>\n",
       "      <th>D</th>\n",
       "      <th>E</th>\n",
       "    </tr>\n",
       "  </thead>\n",
       "  <tbody>\n",
       "    <tr>\n",
       "      <th>0</th>\n",
       "      <td>500</td>\n",
       "      <td>200</td>\n",
       "      <td>500</td>\n",
       "      <td>200</td>\n",
       "      <td>600</td>\n",
       "    </tr>\n",
       "    <tr>\n",
       "      <th>1</th>\n",
       "      <td>400</td>\n",
       "      <td>600</td>\n",
       "      <td>300</td>\n",
       "      <td>200</td>\n",
       "      <td>900</td>\n",
       "    </tr>\n",
       "    <tr>\n",
       "      <th>2</th>\n",
       "      <td>800</td>\n",
       "      <td>300</td>\n",
       "      <td>700</td>\n",
       "      <td>400</td>\n",
       "      <td>200</td>\n",
       "    </tr>\n",
       "  </tbody>\n",
       "</table>\n",
       "</div>"
      ],
      "text/plain": [
       "     A    B    C    D    E\n",
       "0  500  200  500  200  600\n",
       "1  400  600  300  200  900\n",
       "2  800  300  700  400  200"
      ]
     },
     "execution_count": 46,
     "metadata": {},
     "output_type": "execute_result"
    }
   ],
   "source": [
    "df1 * 100 + 200"
   ]
  },
  {
   "cell_type": "markdown",
   "metadata": {},
   "source": [
    "Transpondo DataFrame"
   ]
  },
  {
   "cell_type": "code",
   "execution_count": 47,
   "metadata": {},
   "outputs": [
    {
     "data": {
      "text/html": [
       "<div>\n",
       "<style scoped>\n",
       "    .dataframe tbody tr th:only-of-type {\n",
       "        vertical-align: middle;\n",
       "    }\n",
       "\n",
       "    .dataframe tbody tr th {\n",
       "        vertical-align: top;\n",
       "    }\n",
       "\n",
       "    .dataframe thead th {\n",
       "        text-align: right;\n",
       "    }\n",
       "</style>\n",
       "<table border=\"1\" class=\"dataframe\">\n",
       "  <thead>\n",
       "    <tr style=\"text-align: right;\">\n",
       "      <th></th>\n",
       "      <th>0</th>\n",
       "      <th>1</th>\n",
       "      <th>2</th>\n",
       "    </tr>\n",
       "  </thead>\n",
       "  <tbody>\n",
       "    <tr>\n",
       "      <th>A</th>\n",
       "      <td>3</td>\n",
       "      <td>2</td>\n",
       "      <td>6</td>\n",
       "    </tr>\n",
       "    <tr>\n",
       "      <th>B</th>\n",
       "      <td>0</td>\n",
       "      <td>4</td>\n",
       "      <td>1</td>\n",
       "    </tr>\n",
       "    <tr>\n",
       "      <th>C</th>\n",
       "      <td>3</td>\n",
       "      <td>1</td>\n",
       "      <td>5</td>\n",
       "    </tr>\n",
       "    <tr>\n",
       "      <th>D</th>\n",
       "      <td>0</td>\n",
       "      <td>0</td>\n",
       "      <td>2</td>\n",
       "    </tr>\n",
       "    <tr>\n",
       "      <th>E</th>\n",
       "      <td>4</td>\n",
       "      <td>7</td>\n",
       "      <td>0</td>\n",
       "    </tr>\n",
       "  </tbody>\n",
       "</table>\n",
       "</div>"
      ],
      "text/plain": [
       "   0  1  2\n",
       "A  3  2  6\n",
       "B  0  4  1\n",
       "C  3  1  5\n",
       "D  0  0  2\n",
       "E  4  7  0"
      ]
     },
     "execution_count": 47,
     "metadata": {},
     "output_type": "execute_result"
    }
   ],
   "source": [
    "df1.T"
   ]
  },
  {
   "cell_type": "markdown",
   "metadata": {},
   "source": [
    "Calculando exponencial dos valores"
   ]
  },
  {
   "cell_type": "code",
   "execution_count": 48,
   "metadata": {},
   "outputs": [
    {
     "data": {
      "text/html": [
       "<div>\n",
       "<style scoped>\n",
       "    .dataframe tbody tr th:only-of-type {\n",
       "        vertical-align: middle;\n",
       "    }\n",
       "\n",
       "    .dataframe tbody tr th {\n",
       "        vertical-align: top;\n",
       "    }\n",
       "\n",
       "    .dataframe thead th {\n",
       "        text-align: right;\n",
       "    }\n",
       "</style>\n",
       "<table border=\"1\" class=\"dataframe\">\n",
       "  <thead>\n",
       "    <tr style=\"text-align: right;\">\n",
       "      <th></th>\n",
       "      <th>A</th>\n",
       "      <th>B</th>\n",
       "      <th>C</th>\n",
       "      <th>D</th>\n",
       "      <th>E</th>\n",
       "    </tr>\n",
       "  </thead>\n",
       "  <tbody>\n",
       "    <tr>\n",
       "      <th>0</th>\n",
       "      <td>20.085537</td>\n",
       "      <td>1.000000</td>\n",
       "      <td>20.085537</td>\n",
       "      <td>1.000000</td>\n",
       "      <td>54.598150</td>\n",
       "    </tr>\n",
       "    <tr>\n",
       "      <th>1</th>\n",
       "      <td>7.389056</td>\n",
       "      <td>54.598150</td>\n",
       "      <td>2.718282</td>\n",
       "      <td>1.000000</td>\n",
       "      <td>1096.633158</td>\n",
       "    </tr>\n",
       "    <tr>\n",
       "      <th>2</th>\n",
       "      <td>403.428793</td>\n",
       "      <td>2.718282</td>\n",
       "      <td>148.413159</td>\n",
       "      <td>7.389056</td>\n",
       "      <td>1.000000</td>\n",
       "    </tr>\n",
       "  </tbody>\n",
       "</table>\n",
       "</div>"
      ],
      "text/plain": [
       "            A          B           C         D            E\n",
       "0   20.085537   1.000000   20.085537  1.000000    54.598150\n",
       "1    7.389056  54.598150    2.718282  1.000000  1096.633158\n",
       "2  403.428793   2.718282  148.413159  7.389056     1.000000"
      ]
     },
     "execution_count": 48,
     "metadata": {},
     "output_type": "execute_result"
    }
   ],
   "source": [
    "np.exp(df1)"
   ]
  },
  {
   "cell_type": "markdown",
   "metadata": {},
   "source": [
    "## Vacinações no Acre"
   ]
  },
  {
   "cell_type": "markdown",
   "metadata": {},
   "source": [
    "Vamos trabalhar agora com a database de vacinações no Acre."
   ]
  },
  {
   "cell_type": "markdown",
   "metadata": {},
   "source": [
    "1. Quantas vacinas estão registradas nessa base?\n",
    "2. Quantos pacientes foram vacinados?(considere um paciente paraa cada valor único de paciente_id)\n",
    "3. Quantos pacientes únicos tomaram a primeira dose? OBS: Há um caractere esecial neste campo. Rececba os valores do campo com o método .unique()\n",
    "4. Quantos pacientes com menos de 18 anos foram vacinados?\n",
    "5. Quantos estabelecimentos apalicaram vacina no Acre?"
   ]
  },
  {
   "cell_type": "markdown",
   "metadata": {},
   "source": [
    "OBS: O portal DATASUS pode apresentar instabilidades, retornando um erro na segunda célula abaixo. Por esse motivo está disponível uma base estática, que se for bbaixada para o seu working directory pode ser lida com este comando: df = pd.read_csv('registros de vacinação covid ACRE.csv',sep=';')."
   ]
  },
  {
   "cell_type": "code",
   "execution_count": 49,
   "metadata": {},
   "outputs": [],
   "source": [
    "arquivo = 'https://s3.sa-east-1.amazonaws.com/ckan.saude.gov.br/SIPNI/COVID/uf/uf%3DAC/part-00001-e45b1ab6-500c-4f78-a408-7e62ff651112.c000.csv'"
   ]
  },
  {
   "cell_type": "code",
   "execution_count": 50,
   "metadata": {},
   "outputs": [],
   "source": [
    "#1\n",
    "df = pd.read_csv(arquivo, sep=';')"
   ]
  },
  {
   "cell_type": "code",
   "execution_count": 51,
   "metadata": {},
   "outputs": [
    {
     "data": {
      "text/html": [
       "<div>\n",
       "<style scoped>\n",
       "    .dataframe tbody tr th:only-of-type {\n",
       "        vertical-align: middle;\n",
       "    }\n",
       "\n",
       "    .dataframe tbody tr th {\n",
       "        vertical-align: top;\n",
       "    }\n",
       "\n",
       "    .dataframe thead th {\n",
       "        text-align: right;\n",
       "    }\n",
       "</style>\n",
       "<table border=\"1\" class=\"dataframe\">\n",
       "  <thead>\n",
       "    <tr style=\"text-align: right;\">\n",
       "      <th></th>\n",
       "      <th>document_id</th>\n",
       "      <th>paciente_id</th>\n",
       "      <th>paciente_idade</th>\n",
       "      <th>paciente_dataNascimento</th>\n",
       "      <th>paciente_enumSexoBiologico</th>\n",
       "      <th>paciente_racaCor_codigo</th>\n",
       "      <th>paciente_racaCor_valor</th>\n",
       "      <th>paciente_endereco_coIbgeMunicipio</th>\n",
       "      <th>paciente_endereco_coPais</th>\n",
       "      <th>paciente_endereco_nmMunicipio</th>\n",
       "      <th>...</th>\n",
       "      <th>vacina_categoria_codigo</th>\n",
       "      <th>vacina_categoria_nome</th>\n",
       "      <th>vacina_lote</th>\n",
       "      <th>vacina_fabricante_nome</th>\n",
       "      <th>vacina_fabricante_referencia</th>\n",
       "      <th>vacina_dataAplicacao</th>\n",
       "      <th>vacina_descricao_dose</th>\n",
       "      <th>vacina_codigo</th>\n",
       "      <th>vacina_nome</th>\n",
       "      <th>sistema_origem</th>\n",
       "    </tr>\n",
       "  </thead>\n",
       "  <tbody>\n",
       "    <tr>\n",
       "      <th>0</th>\n",
       "      <td>d390f49b-db4f-45ca-93ad-505602f86699-i0b0</td>\n",
       "      <td>00a24bcb7c57019951363054249db234381f3027fb7639...</td>\n",
       "      <td>6</td>\n",
       "      <td>2015-03-21</td>\n",
       "      <td>M</td>\n",
       "      <td>3</td>\n",
       "      <td>PARDA</td>\n",
       "      <td>120040.0</td>\n",
       "      <td>10.0</td>\n",
       "      <td>RIO BRANCO</td>\n",
       "      <td>...</td>\n",
       "      <td>NaN</td>\n",
       "      <td>NaN</td>\n",
       "      <td>FP8290</td>\n",
       "      <td>Pendente Identificação</td>\n",
       "      <td>Organization/28290</td>\n",
       "      <td>2022-03-03</td>\n",
       "      <td>1ª Dose</td>\n",
       "      <td>99</td>\n",
       "      <td>COVID-19 PEDIÁTRICA - PFIZER COMIRNATY</td>\n",
       "      <td>Novo PNI</td>\n",
       "    </tr>\n",
       "    <tr>\n",
       "      <th>1</th>\n",
       "      <td>eeb7f0dd-b91e-4970-9faf-97616d3f56bd-i0b0</td>\n",
       "      <td>4e55de8a8503020b81d4b5e71c65f036d90dcb389de198...</td>\n",
       "      <td>15</td>\n",
       "      <td>2007-01-28</td>\n",
       "      <td>F</td>\n",
       "      <td>3</td>\n",
       "      <td>PARDA</td>\n",
       "      <td>120040.0</td>\n",
       "      <td>10.0</td>\n",
       "      <td>RIO BRANCO</td>\n",
       "      <td>...</td>\n",
       "      <td>2.0</td>\n",
       "      <td>Faixa Etária</td>\n",
       "      <td>210520</td>\n",
       "      <td>SINOVAC/BUTANTAN</td>\n",
       "      <td>29501</td>\n",
       "      <td>2022-09-22</td>\n",
       "      <td>Reforço</td>\n",
       "      <td>86</td>\n",
       "      <td>COVID-19 SINOVAC/BUTANTAN - CORONAVAC</td>\n",
       "      <td>Novo PNI</td>\n",
       "    </tr>\n",
       "    <tr>\n",
       "      <th>2</th>\n",
       "      <td>e57971f5-6b8c-40b6-ac34-ff203c0b4cea-i0b0</td>\n",
       "      <td>1a79c1e8884a0329eefa4517b39e8546e2dba8a285e77c...</td>\n",
       "      <td>39</td>\n",
       "      <td>1981-11-20</td>\n",
       "      <td>F</td>\n",
       "      <td>3</td>\n",
       "      <td>PARDA</td>\n",
       "      <td>120045.0</td>\n",
       "      <td>10.0</td>\n",
       "      <td>SENADOR GUIOMARD</td>\n",
       "      <td>...</td>\n",
       "      <td>2.0</td>\n",
       "      <td>Faixa Etária</td>\n",
       "      <td>214VCD053W</td>\n",
       "      <td>ASTRAZENECA/FIOCRUZ</td>\n",
       "      <td>Organization/33781055000135</td>\n",
       "      <td>2021-08-31</td>\n",
       "      <td>2ª Dose</td>\n",
       "      <td>85</td>\n",
       "      <td>COVID-19 ASTRAZENECA/FIOCRUZ - COVISHIELD</td>\n",
       "      <td>Novo PNI</td>\n",
       "    </tr>\n",
       "    <tr>\n",
       "      <th>3</th>\n",
       "      <td>eed74d58-6444-4b72-bbf3-06bb33e97409-i0b0</td>\n",
       "      <td>807a9daecf3a662be85fd3a7f127b0b5f67b4513b64c0e...</td>\n",
       "      <td>15</td>\n",
       "      <td>2006-03-02</td>\n",
       "      <td>F</td>\n",
       "      <td>1</td>\n",
       "      <td>BRANCA</td>\n",
       "      <td>120040.0</td>\n",
       "      <td>10.0</td>\n",
       "      <td>RIO BRANCO</td>\n",
       "      <td>...</td>\n",
       "      <td>2.0</td>\n",
       "      <td>Faixa Etária</td>\n",
       "      <td>FA9096</td>\n",
       "      <td>PFIZER</td>\n",
       "      <td>Organization/00394544000851</td>\n",
       "      <td>2021-08-06</td>\n",
       "      <td>1ª Dose</td>\n",
       "      <td>87</td>\n",
       "      <td>COVID-19 PFIZER - COMIRNATY</td>\n",
       "      <td>Novo PNI</td>\n",
       "    </tr>\n",
       "    <tr>\n",
       "      <th>4</th>\n",
       "      <td>bf8e6746-c745-4312-a78c-59f25cf21585-i0b0</td>\n",
       "      <td>8c983d99356ebfb89dcff2d47ffc709908876e0a06e733...</td>\n",
       "      <td>21</td>\n",
       "      <td>2000-07-30</td>\n",
       "      <td>F</td>\n",
       "      <td>3</td>\n",
       "      <td>PARDA</td>\n",
       "      <td>120043.0</td>\n",
       "      <td>10.0</td>\n",
       "      <td>SANTA ROSA DO PURUS</td>\n",
       "      <td>...</td>\n",
       "      <td>9.0</td>\n",
       "      <td>Trabalhadores de Saúde</td>\n",
       "      <td>217VCD239Z</td>\n",
       "      <td>ASTRAZENECA/FIOCRUZ</td>\n",
       "      <td>Organization/149</td>\n",
       "      <td>2022-01-13</td>\n",
       "      <td>Reforço</td>\n",
       "      <td>85</td>\n",
       "      <td>COVID-19 ASTRAZENECA/FIOCRUZ - COVISHIELD</td>\n",
       "      <td>Novo PNI</td>\n",
       "    </tr>\n",
       "  </tbody>\n",
       "</table>\n",
       "<p>5 rows × 32 columns</p>\n",
       "</div>"
      ],
      "text/plain": [
       "                                 document_id  \\\n",
       "0  d390f49b-db4f-45ca-93ad-505602f86699-i0b0   \n",
       "1  eeb7f0dd-b91e-4970-9faf-97616d3f56bd-i0b0   \n",
       "2  e57971f5-6b8c-40b6-ac34-ff203c0b4cea-i0b0   \n",
       "3  eed74d58-6444-4b72-bbf3-06bb33e97409-i0b0   \n",
       "4  bf8e6746-c745-4312-a78c-59f25cf21585-i0b0   \n",
       "\n",
       "                                         paciente_id  paciente_idade  \\\n",
       "0  00a24bcb7c57019951363054249db234381f3027fb7639...               6   \n",
       "1  4e55de8a8503020b81d4b5e71c65f036d90dcb389de198...              15   \n",
       "2  1a79c1e8884a0329eefa4517b39e8546e2dba8a285e77c...              39   \n",
       "3  807a9daecf3a662be85fd3a7f127b0b5f67b4513b64c0e...              15   \n",
       "4  8c983d99356ebfb89dcff2d47ffc709908876e0a06e733...              21   \n",
       "\n",
       "  paciente_dataNascimento paciente_enumSexoBiologico  paciente_racaCor_codigo  \\\n",
       "0              2015-03-21                          M                        3   \n",
       "1              2007-01-28                          F                        3   \n",
       "2              1981-11-20                          F                        3   \n",
       "3              2006-03-02                          F                        1   \n",
       "4              2000-07-30                          F                        3   \n",
       "\n",
       "  paciente_racaCor_valor  paciente_endereco_coIbgeMunicipio  \\\n",
       "0                  PARDA                           120040.0   \n",
       "1                  PARDA                           120040.0   \n",
       "2                  PARDA                           120045.0   \n",
       "3                 BRANCA                           120040.0   \n",
       "4                  PARDA                           120043.0   \n",
       "\n",
       "   paciente_endereco_coPais paciente_endereco_nmMunicipio  ...  \\\n",
       "0                      10.0                    RIO BRANCO  ...   \n",
       "1                      10.0                    RIO BRANCO  ...   \n",
       "2                      10.0              SENADOR GUIOMARD  ...   \n",
       "3                      10.0                    RIO BRANCO  ...   \n",
       "4                      10.0           SANTA ROSA DO PURUS  ...   \n",
       "\n",
       "  vacina_categoria_codigo   vacina_categoria_nome  vacina_lote  \\\n",
       "0                     NaN                     NaN       FP8290   \n",
       "1                     2.0            Faixa Etária       210520   \n",
       "2                     2.0            Faixa Etária   214VCD053W   \n",
       "3                     2.0            Faixa Etária       FA9096   \n",
       "4                     9.0  Trabalhadores de Saúde   217VCD239Z   \n",
       "\n",
       "   vacina_fabricante_nome  vacina_fabricante_referencia vacina_dataAplicacao  \\\n",
       "0  Pendente Identificação            Organization/28290           2022-03-03   \n",
       "1        SINOVAC/BUTANTAN                         29501           2022-09-22   \n",
       "2     ASTRAZENECA/FIOCRUZ   Organization/33781055000135           2021-08-31   \n",
       "3                  PFIZER   Organization/00394544000851           2021-08-06   \n",
       "4     ASTRAZENECA/FIOCRUZ              Organization/149           2022-01-13   \n",
       "\n",
       "  vacina_descricao_dose  vacina_codigo  \\\n",
       "0               1ª Dose             99   \n",
       "1               Reforço             86   \n",
       "2               2ª Dose             85   \n",
       "3               1ª Dose             87   \n",
       "4               Reforço             85   \n",
       "\n",
       "                                 vacina_nome sistema_origem  \n",
       "0     COVID-19 PEDIÁTRICA - PFIZER COMIRNATY       Novo PNI  \n",
       "1      COVID-19 SINOVAC/BUTANTAN - CORONAVAC       Novo PNI  \n",
       "2  COVID-19 ASTRAZENECA/FIOCRUZ - COVISHIELD       Novo PNI  \n",
       "3                COVID-19 PFIZER - COMIRNATY       Novo PNI  \n",
       "4  COVID-19 ASTRAZENECA/FIOCRUZ - COVISHIELD       Novo PNI  \n",
       "\n",
       "[5 rows x 32 columns]"
      ]
     },
     "execution_count": 51,
     "metadata": {},
     "output_type": "execute_result"
    }
   ],
   "source": [
    "df.head()"
   ]
  },
  {
   "cell_type": "code",
   "execution_count": 52,
   "metadata": {},
   "outputs": [
    {
     "data": {
      "text/plain": [
       "388384"
      ]
     },
     "execution_count": 52,
     "metadata": {},
     "output_type": "execute_result"
    }
   ],
   "source": [
    "df.shape[0]"
   ]
  },
  {
   "cell_type": "code",
   "execution_count": 53,
   "metadata": {},
   "outputs": [
    {
     "data": {
      "text/plain": [
       "317266"
      ]
     },
     "execution_count": 53,
     "metadata": {},
     "output_type": "execute_result"
    }
   ],
   "source": [
    "#2\n",
    "df['paciente_id'].nunique()"
   ]
  },
  {
   "cell_type": "code",
   "execution_count": 54,
   "metadata": {},
   "outputs": [
    {
     "data": {
      "text/plain": [
       "143842"
      ]
     },
     "execution_count": 54,
     "metadata": {},
     "output_type": "execute_result"
    }
   ],
   "source": [
    "#3\n",
    "primeira_dose = df['vacina_descricao_dose'].unique()[0]\n",
    "df['paciente_id'].loc[df['vacina_descricao_dose'] == primeira_dose].nunique()"
   ]
  },
  {
   "cell_type": "code",
   "execution_count": 55,
   "metadata": {},
   "outputs": [
    {
     "data": {
      "text/plain": [
       "143842"
      ]
     },
     "execution_count": 55,
     "metadata": {},
     "output_type": "execute_result"
    }
   ],
   "source": [
    "#3 solução alternativa\n",
    "primeira_dose = df['vacina_descricao_dose'].unique()[0]\n",
    "df_primeira_dose = df[df['vacina_descricao_dose'] == primeira_dose]\n",
    "df_primeira_dose['paciente_id'].nunique()"
   ]
  },
  {
   "cell_type": "code",
   "execution_count": 56,
   "metadata": {},
   "outputs": [
    {
     "data": {
      "text/plain": [
       "68773"
      ]
     },
     "execution_count": 56,
     "metadata": {},
     "output_type": "execute_result"
    }
   ],
   "source": [
    "#4\n",
    "df_menor = df[df[\"paciente_idade\"]<18]\n",
    "df_menor['paciente_id'].nunique()"
   ]
  },
  {
   "cell_type": "code",
   "execution_count": 57,
   "metadata": {},
   "outputs": [
    {
     "data": {
      "text/plain": [
       "62"
      ]
     },
     "execution_count": 57,
     "metadata": {},
     "output_type": "execute_result"
    }
   ],
   "source": [
    "#5\n",
    "df['estabelecimento_razaoSocial'].nunique()"
   ]
  },
  {
   "cell_type": "markdown",
   "metadata": {},
   "source": [
    "## Vacinação II"
   ]
  },
  {
   "cell_type": "markdown",
   "metadata": {},
   "source": [
    "Gere um dataframe que contenha somente os estabelecimentos que aplicaram vacinas a menores de 18 anos. Nesse dataframe devem conter somente dados dos estabelecimentos, mais uma coluna sendo a quantidade de vacinas que o estabelecimento aplicou a menores de 18 anos"
   ]
  },
  {
   "cell_type": "markdown",
   "metadata": {},
   "source": [
    "1. Crie uma cópia do DataFrame original, contendo somente os registros de vacinas realizadas a menores de 18 anos\n",
    "2. crie uma lista das colunas desse DataFrame com o atributo de DataFrame .columns()\n",
    "3. Nesse DataFrame faça uma contagem do campo Vacina_categoria_nome.\n",
    "4. A partir da lista de colunas, escolha somente aquelas que são referentes ao estabelecimento, faça uma lista com esse valores.\n",
    "5. Usando o método .loc, selecione somente essas variáveis\n",
    "6. Aplique o método .drop_duplicates e crie uma lista com uma linha para cada estabelecimento, com os dados do estabelecimento"
   ]
  },
  {
   "cell_type": "code",
   "execution_count": 58,
   "metadata": {},
   "outputs": [],
   "source": [
    "#1\n",
    "df_menor = df[df[\"paciente_idade\"]<18].copy()"
   ]
  },
  {
   "cell_type": "code",
   "execution_count": 59,
   "metadata": {},
   "outputs": [
    {
     "data": {
      "text/plain": [
       "Index(['document_id', 'paciente_id', 'paciente_idade',\n",
       "       'paciente_dataNascimento', 'paciente_enumSexoBiologico',\n",
       "       'paciente_racaCor_codigo', 'paciente_racaCor_valor',\n",
       "       'paciente_endereco_coIbgeMunicipio', 'paciente_endereco_coPais',\n",
       "       'paciente_endereco_nmMunicipio', 'paciente_endereco_nmPais',\n",
       "       'paciente_endereco_uf', 'paciente_endereco_cep',\n",
       "       'paciente_nacionalidade_enumNacionalidade', 'estabelecimento_valor',\n",
       "       'estabelecimento_razaoSocial', 'estalecimento_noFantasia',\n",
       "       'estabelecimento_municipio_codigo', 'estabelecimento_municipio_nome',\n",
       "       'estabelecimento_uf', 'vacina_grupoAtendimento_codigo',\n",
       "       'vacina_grupoAtendimento_nome', 'vacina_categoria_codigo',\n",
       "       'vacina_categoria_nome', 'vacina_lote', 'vacina_fabricante_nome',\n",
       "       'vacina_fabricante_referencia', 'vacina_dataAplicacao',\n",
       "       'vacina_descricao_dose', 'vacina_codigo', 'vacina_nome',\n",
       "       'sistema_origem'],\n",
       "      dtype='object')"
      ]
     },
     "execution_count": 59,
     "metadata": {},
     "output_type": "execute_result"
    }
   ],
   "source": [
    "#2\n",
    "df_menor.columns"
   ]
  },
  {
   "cell_type": "code",
   "execution_count": 60,
   "metadata": {},
   "outputs": [
    {
     "data": {
      "text/plain": [
       "vacina_categoria_nome\n",
       "Faixa Etária                                      47794\n",
       "Povos Indígenas                                    4668\n",
       "Outros                                             3800\n",
       "Povos e Comunidades Tradicionais                    849\n",
       "Trabalhadores de Saúde                              257\n",
       "Comorbidades                                         54\n",
       "População Privada de Liberdade                       48\n",
       "Gestantes                                            44\n",
       "Trabalhadores da Educação                            19\n",
       "Pessoas com Deficiência                               9\n",
       "Trabalhadores de Transporte                           8\n",
       "Puérperas                                             7\n",
       "Pessoas Institucionalizadas                           2\n",
       "Pessoas de 60 anos ou mais institucionalizadas        1\n",
       "Name: count, dtype: int64"
      ]
     },
     "execution_count": 60,
     "metadata": {},
     "output_type": "execute_result"
    }
   ],
   "source": [
    "#3\n",
    "df_menor['vacina_categoria_nome'].value_counts()"
   ]
  },
  {
   "cell_type": "code",
   "execution_count": 64,
   "metadata": {},
   "outputs": [],
   "source": [
    "#4\n",
    "lista_variaveis = ['estabelecimento_valor', 'estabelecimento_razaoSocial', 'estalecimento_noFantasia', 'estabelecimento_municipio_codigo', 'estabelecimento_municipio_nome', 'estabelecimento_uf']\n",
    "df_menor_lista = df_menor.loc[:,lista_variaveis]"
   ]
  },
  {
   "cell_type": "code",
   "execution_count": 65,
   "metadata": {},
   "outputs": [
    {
     "data": {
      "text/plain": [
       "(210, 6)"
      ]
     },
     "execution_count": 65,
     "metadata": {},
     "output_type": "execute_result"
    }
   ],
   "source": [
    "df_menor_lista = df_menor_lista.drop_duplicates()\n",
    "df_menor_lista.shape"
   ]
  }
 ],
 "metadata": {
  "kernelspec": {
   "display_name": "Python 3",
   "language": "python",
   "name": "python3"
  },
  "language_info": {
   "codemirror_mode": {
    "name": "ipython",
    "version": 3
   },
   "file_extension": ".py",
   "mimetype": "text/x-python",
   "name": "python",
   "nbconvert_exporter": "python",
   "pygments_lexer": "ipython3",
   "version": "3.12.3"
  }
 },
 "nbformat": 4,
 "nbformat_minor": 2
}
